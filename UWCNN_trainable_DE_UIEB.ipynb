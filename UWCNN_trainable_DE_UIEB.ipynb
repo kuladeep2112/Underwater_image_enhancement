{
  "cells": [
    {
      "cell_type": "markdown",
      "metadata": {
        "id": "505mCWb06ec4"
      },
      "source": [
        "## Download raw and reference data and upload trained model"
      ]
    },
    {
      "cell_type": "code",
      "execution_count": null,
      "metadata": {
        "id": "sdMdZFOiC3vO"
      },
      "outputs": [],
      "source": [
        "! wget --header=\"Host: doc-14-18-docs.googleusercontent.com\" --header=\"User-Agent: Mozilla/5.0 (Macintosh; Intel Mac OS X 10_15_7) AppleWebKit/537.36 (KHTML, like Gecko) Chrome/112.0.0.0 Safari/537.36\" --header=\"Accept: text/html,application/xhtml+xml,application/xml;q=0.9,image/avif,image/webp,image/apng,*/*;q=0.8,application/signed-exchange;v=b3;q=0.7\" --header=\"Accept-Language: en-GB,en-US;q=0.9,en;q=0.8\" --header=\"Cookie: AUTH_dp1l4faf6942l4710tsq85u12bcjudim=00838855734384147432|1683508650000|edrsjqda5q4t3ge5t6i4bs9v1btj6bjh\" --header=\"Connection: keep-alive\" \"https://doc-14-18-docs.googleusercontent.com/docs/securesc/u8b87l5l6471r2lqtn6669a7q1d31ilr/8661fkqg6gd6i0ed649jhcureb7vs7ml/1683508650000/15732550580278023123/00838855734384147432/10kvDfgTc44SyadYW4YuKsa_tXuPWvrCx?e=download&ax=ADWCPKAded2vYUdZ6iditbvjEuC6xzIZbApTvipV9K0jkRpjTyr-b7OyepAN7Jh5aZsq9Uo_Po-ksURGsjZGLrTCHzYaagO_UYDNL8iA3XIkXaOdrr3rP39F4L7qq5nhIr375Zlm91HpnsBUzm2FxyDDyrFqhQle37c9lfBNZtTISM0C4wda9hNrXv9KMYW7PzetLQLUEEHOjcnlHoKIehUJNfjYHT1GRY-vpFbHd3GMMKHJ_ziemIEstLHVZLA1hamWGGGF6B1ZGDjfUVIPUhwXD6p3Y9PpSX1bmEK9wMRJlpGTfg2oQ_ZSt7LyHagVWW9CPE_gmNI2AIXkurgNtXdyfScndsuFthkQ978k5eIFsmhGHcZhT8_rN-XogbijUfs1ZMetdjR8HUYMeo2mTELEltisE1VKBCq5Mgd3eyzQmtJFG0iKWP3EFlV_rOFtaFJbaCz5CebLK7Lk3_UcJzip3dSsLzhAcFB0_NhSG07o38epfT-RS_AejA5oY7sTQEoHXhTsZS7Js5sE-TI7PztEmm1vcn3GnVU9EOmIcTN6vWDPSihG0LMEO6XH3XYUalaU-9IGPujlAaJ5ldIlEKRLr0PiAIRArfhKZhFpH6A-_Y1xoUI6TQoCXUrVqOcs2FN76HKiTezpJEgyP0WgYebRPx_OJd1EULx0BwIcue1t7q0oHLjHk1l9e_gcNgI5hUjc3pXCVOB-SUBP0kCPWsKBVxEL4rdbMXOC6PcN8Ly4KZqJbRc6PIfviVOUjwdmKu_LV4EfDSan23XQo8ITwIEk1BpkCUtPZLkE3hBrkxcqJ_anUWR_sji-hL76cPqTiiJSv0O2BicfF33dyOOcnvZ2fQTPCVQSqyj9hf2rAWOTZcVwukkUGdUNViNT_4KE9U8&uuid=94047a93-c4e3-45d1-86ee-eba718fb1ec7&authuser=0\" -c -O 'reference_uieb.zip'"
      ]
    },
    {
      "cell_type": "code",
      "execution_count": null,
      "metadata": {
        "id": "wKxdCDTT3JNi"
      },
      "outputs": [],
      "source": [
        "! pip install tensorflow-addons\n",
        "! unzip /content/raw_uieb.zip\n",
        "! unzip /content/reference_uieb.zip\n",
        "! rm -r /content/__MACOSX"
      ]
    },
    {
      "cell_type": "markdown",
      "metadata": {
        "id": "dIyMojAr6ncG"
      },
      "source": [
        "## Import libraries"
      ]
    },
    {
      "cell_type": "code",
      "execution_count": 4,
      "metadata": {
        "id": "rHghvzZe42di",
        "colab": {
          "base_uri": "https://localhost:8080/"
        },
        "outputId": "4645bb75-74bc-4446-ab96-282a01e2661d"
      },
      "outputs": [
        {
          "output_type": "stream",
          "name": "stderr",
          "text": [
            "/usr/local/lib/python3.10/dist-packages/tensorflow_addons/utils/tfa_eol_msg.py:23: UserWarning: \n",
            "\n",
            "TensorFlow Addons (TFA) has ended development and introduction of new features.\n",
            "TFA has entered a minimal maintenance and release mode until a planned end of life in May 2024.\n",
            "Please modify downstream libraries to take dependencies from other repositories in our TensorFlow community (e.g. Keras, Keras-CV, and Keras-NLP). \n",
            "\n",
            "For more information see: https://github.com/tensorflow/addons/issues/2807 \n",
            "\n",
            "  warnings.warn(\n"
          ]
        }
      ],
      "source": [
        "import tensorflow as tf\n",
        "# tf.compat.v1.enable_eager_execution()\n",
        "from tensorflow import keras\n",
        "from tensorflow.keras.layers import *\n",
        "from tensorflow.keras.preprocessing import image\n",
        "from tensorflow.keras.models import Model, load_model\n",
        "# from tensorflow.keras.layers import UpSampling2D\n",
        "# from tensorflow.keras.layers import MaxPooling2D, GlobalAveragePooling2D\n",
        "from tensorflow.keras.layers import concatenate\n",
        "from tensorflow.keras.layers import Multiply\n",
        "from tensorflow.keras.callbacks import EarlyStopping, ModelCheckpoint\n",
        "from tensorflow.keras import backend as K\n",
        "from tensorflow.keras.layers import Input, Add, Dense, Activation, ZeroPadding2D, BatchNormalization, Flatten, Conv2D\n",
        "from tensorflow.keras.models import Model, load_model\n",
        "from tensorflow.keras.utils import plot_model\n",
        "from tensorflow.keras.initializers import glorot_uniform\n",
        "import tensorflow_addons as tfa\n",
        "from tensorflow_addons.image import gaussian_filter2d\n",
        "from sklearn.model_selection import train_test_split\n",
        "K.set_image_data_format('channels_last')\n",
        "import os\n",
        "import tensorflow_probability as tfp\n",
        "from tensorflow.keras.callbacks import ModelCheckpoint, ReduceLROnPlateau, EarlyStopping\n",
        "import pandas as pd\n",
        "import numpy as np\n",
        "import cv2\n",
        "import cv2 as cv\n",
        "import matplotlib.pyplot as plt"
      ]
    },
    {
      "cell_type": "markdown",
      "metadata": {
        "id": "YLg3xZril6y1"
      },
      "source": [
        "## Train Statistically driven UWCNN"
      ]
    },
    {
      "cell_type": "code",
      "execution_count": 5,
      "metadata": {
        "id": "FaLQo0-5mxR1"
      },
      "outputs": [],
      "source": [
        "optim = tf.keras.optimizers.Adam(0.002)\n",
        "\n",
        "class Customloss(tf.keras.losses.Loss):\n",
        "  def __init__(self,**kwargs):\n",
        "    super().__init__(**kwargs)\n",
        "    self.mse = tf.keras.losses.MeanSquaredError()\n",
        "  def call(self,y_true, y_pred):\n",
        "    lmse=self.mse(y_true, y_pred)\n",
        "    ssim =tf.image.ssim(y_true,y_pred, max_val=1, filter_size=13,filter_sigma=1.5, k1=0.02, k2=0.03)\n",
        "    return lmse+(1-ssim)"
      ]
    },
    {
      "cell_type": "code",
      "execution_count": 6,
      "metadata": {
        "id": "_tNiYzpRm1iB"
      },
      "outputs": [],
      "source": [
        "class convolutional_block(tf.keras.layers.Layer):\n",
        "    def __init__(self,  filters=16, stride=1,**kwargs):\n",
        "        super().__init__(**kwargs)\n",
        "        self.F1= filters\n",
        "        self.stride = stride\n",
        "        self.conv1= tf.keras.layers.Conv2D(self.F1, (3,3), padding='same',strides=self.stride,kernel_initializer=glorot_uniform(seed=0))\n",
        "        self.conv2= tf.keras.layers.Conv2D(self.F1, (3,3), padding='same',strides=self.stride,kernel_initializer=glorot_uniform(seed=0))\n",
        "        self.conv3= tf.keras.layers.Conv2D(self.F1, (3,3), padding='same',strides=self.stride,kernel_initializer=glorot_uniform(seed=0))\n",
        "    def get_config(self):\n",
        "        config = super().get_config()\n",
        "        config.update({\n",
        "            'filters': self.F1,\n",
        "            'stride': self.stride\n",
        "        })\n",
        "        return config\n",
        "    def call(self, input_tensor):\n",
        "        # write the architecutre that was mentioned above\n",
        "        x= self.conv1(input_tensor)\n",
        "        x_one= tf.nn.relu(x)\n",
        "        x = self.conv2(x_one)\n",
        "        x_two= tf.nn.relu(x)\n",
        "        x = self.conv3(x_two)\n",
        "        x_three= tf.nn.relu(x)\n",
        "        x = tf.concat([x_one,x_two,x_three],axis=-1)\n",
        "        return x"
      ]
    },
    {
      "cell_type": "code",
      "execution_count": 7,
      "metadata": {
        "id": "t4B-Vn3Jm4Fh"
      },
      "outputs": [],
      "source": [
        "class LossHistory(tf.keras.callbacks.Callback):\n",
        "    def __init__(self):\n",
        "        super().__init__()\n",
        "        self.losses = []\n",
        "        self.val_loss=[]\n",
        "    def on_epoch_end(self, epoch, logs=None):\n",
        "        self.losses.append(logs['loss'])\n",
        "        self.val_loss.append(logs['val_loss'])"
      ]
    },
    {
      "cell_type": "code",
      "execution_count": 8,
      "metadata": {
        "id": "T17kuOgwl9oE"
      },
      "outputs": [],
      "source": [
        "class Sharpen(tf.keras.layers.Layer):\n",
        "    def __init__(self, num_outputs, trainable=True, kernel=None, **kwargs):\n",
        "        super(Sharpen, self).__init__(**kwargs)\n",
        "        self.num_outputs = num_outputs\n",
        "        self.trainable = trainable\n",
        "        self.kernel = kernel\n",
        "\n",
        "        if self.kernel is None:\n",
        "            self.kernel = tf.Variable([[[[-1, -1, -1], [-1, 9, -1], [-1, -1, -1]]]], dtype=tf.float32)\n",
        "\n",
        "        self.num_outputs_var = tf.Variable(self.num_outputs, dtype=tf.float32, trainable=True)\n",
        "\n",
        "    def build(self, input_shape,kernel=None, num_outputs_var=None):\n",
        "        if kernel is not None:\n",
        "            self.kernel = kernel\n",
        "        kernel = tf.math.l2_normalize(self.kernel, axis=[0, 1, 2])\n",
        "        self.kernel = self.add_weight(\n",
        "            name='kernel',\n",
        "            shape=(1, 1, 3, 3),\n",
        "            initializer=tf.keras.initializers.Constant(kernel.numpy()),\n",
        "            trainable=True\n",
        "        )\n",
        "        if num_outputs_var is not None:\n",
        "            self.num_outputs_var = num_outputs_var\n",
        "        self.num_outputs_var = self.add_weight(\n",
        "            name='num_outputs',\n",
        "            shape=(),\n",
        "            initializer=tf.keras.initializers.Constant(self.num_outputs),\n",
        "            trainable=True\n",
        "        )\n",
        "\n",
        "        super(Sharpen, self).build(input_shape)\n",
        "\n",
        "    def call(self, inputs):\n",
        "        blurred = gaussian_filter2d(inputs, sigma=10.0, filter_shape=[3, 3])\n",
        "        unsharp_mask = tf.clip_by_value(inputs + (inputs - blurred) * self.num_outputs_var, 0, 1)\n",
        "        return unsharp_mask\n",
        "\n",
        "    def get_config(self):\n",
        "        config = super(Sharpen, self).get_config()\n",
        "        config.update({\n",
        "            'num_outputs': self.num_outputs,\n",
        "            'trainable': self.trainable,\n",
        "            'kernel': self.kernel.numpy()\n",
        "        })\n",
        "        return config\n"
      ]
    },
    {
      "cell_type": "code",
      "execution_count": 9,
      "metadata": {
        "id": "O1uDkYGnEVi1"
      },
      "outputs": [],
      "source": [
        "class ContrastStretchingLayer(tf.keras.layers.Layer):\n",
        "    def __init__(self, trainable=True, **kwargs):\n",
        "        super(ContrastStretchingLayer, self).__init__(**kwargs)\n",
        "        self.trainable = trainable\n",
        "\n",
        "    def build(self, input_shape):\n",
        "        if self.trainable:\n",
        "            self.initial_population = self.add_weight(shape=(4,), initializer=tf.keras.initializers.RandomUniform(minval=0.05, maxval=0.5), trainable=True)\n",
        "        else:\n",
        "            self.initial_population = (tf.random.uniform(shape=(4,), minval=0.01, maxval=0.5))\n",
        "        self.sharpen_layer = Sharpen(num_outputs=1, trainable=True, kernel=None)\n",
        "        super(ContrastStretchingLayer, self).build(input_shape)\n",
        "\n",
        "    def call(self, inputs, training=None):\n",
        "        imgg = differential_evolution_contrast_stretching(inputs, self.initial_population )\n",
        "        sharpened_image = self.sharpen_layer(tf.expand_dims(imgg, axis=0))\n",
        "        return sharpened_image\n",
        "\n",
        "    def get_config(self):\n",
        "        config = super(ContrastStretchingLayer, self).get_config()\n",
        "        config.update({\"trainable\": self.trainable})\n",
        "        return config\n"
      ]
    },
    {
      "cell_type": "markdown",
      "metadata": {
        "id": "voVOlsMG8r8e"
      },
      "source": [
        "## Modified diff evo"
      ]
    },
    {
      "cell_type": "code",
      "execution_count": 10,
      "metadata": {
        "id": "ZhtlulYs0wBe"
      },
      "outputs": [],
      "source": [
        "def differential_evolution_contrast_stretching(image,initial_population):\n",
        "    image = tf.cast(image, tf.float32)\n",
        "    population_size = 4\n",
        "    initial_population = (tf.random.uniform(shape=(population_size,), minval=0.01, maxval=0.5))\n",
        "    def obj_func(x, channel):\n",
        "        c = tfp.stats.percentile(channel, 1.0)\n",
        "        d = tfp.stats.percentile(channel, 99.0)\n",
        "        value = (channel - c)\n",
        "        value = tf.tile(tf.expand_dims(value, axis=-1), multiples=[1, 1, population_size])\n",
        "        value = tf.cast(value, tf.float32)\n",
        "        c = tf.cast(c, tf.float32)\n",
        "        d = tf.cast(d, tf.float32)\n",
        "        stretched_channel = value * (((1 - x) - x) / (d - c)) + x\n",
        "        stretched_channel = tf.clip_by_value(stretched_channel, 0, 1)\n",
        "        avg_gradients = []\n",
        "        entropies = []\n",
        "        for i in range(population_size):\n",
        "            avg_gradient = tf.reduce_mean(tf.abs(tf.image.image_gradients(tf.expand_dims(stretched_channel[:, :, i:i+1], axis=0))))\n",
        "            avg_gradients.append(avg_gradient)\n",
        "            # float_tensor = tf.constant(stretched_channel[:, :, i:i+1], dtype=tf.float32)\n",
        "            float_tensor=stretched_channel[:, :, i:i+1]\n",
        "            histogram = tf.histogram_fixed_width(float_tensor, [0.0, 1.0], nbins=256)\n",
        "            probabilities = histogram / tf.reduce_sum(histogram)\n",
        "            entropy = tf.reduce_sum(-tf.math.log(probabilities + 1e-10) * probabilities)\n",
        "            entropies.append(entropy)\n",
        "        f = (-1 * (tf.stack(avg_gradients) + tf.cast(tf.stack(entropies), tf.float32)))\n",
        "        return f\n",
        "\n",
        "    channels = tf.unstack(image, axis=-1)\n",
        "    stretched_channels = []\n",
        "    for channel in channels:\n",
        "        channel= tf.reshape(channel, shape=(256, 256))\n",
        "        optim_results = tfp.optimizer.differential_evolution_minimize(\n",
        "            lambda x: obj_func(x, channel/255.0),\n",
        "            initial_population=initial_population,\n",
        "            seed=43210\n",
        "        )\n",
        "        x_opt = optim_results.position\n",
        "        c = tfp.stats.percentile(channel, 1.0)\n",
        "        d = tfp.stats.percentile(channel, 99.0)\n",
        "        value = (channel - c)\n",
        "        value = tf.cast(value, tf.float32)\n",
        "        c = tf.cast(c, tf.float32)\n",
        "        d = tf.cast(d, tf.float32)\n",
        "        stretched_channel = value * (((1 - x_opt) - x_opt) / (d - c)) + x_opt\n",
        "        stretched_channel = tf.clip_by_value(stretched_channel, 0, 1)\n",
        "        stretched_channels.append(stretched_channel)\n",
        "    return tf.stack(stretched_channels, axis=-1)\n"
      ]
    },
    {
      "cell_type": "markdown",
      "metadata": {
        "id": "rspm_bzy8yP4"
      },
      "source": [
        "## Model"
      ]
    },
    {
      "cell_type": "code",
      "execution_count": 11,
      "metadata": {
        "id": "9mfdee--pmfo"
      },
      "outputs": [],
      "source": [
        "im1     = Input(shape=(256,256,3))\n",
        "conv    = convolutional_block(16,1)(im1)\n",
        "concat1 = tf.concat([im1,conv],axis=-1)\n",
        "conv2   = convolutional_block(16,1)(concat1)\n",
        "concat2 = tf.concat([im1,conv2,concat1],axis=-1)\n",
        "conv3   = convolutional_block(16,1)(concat2)\n",
        "concat3 = tf.concat([im1,conv3,concat2],axis=-1)\n",
        "conv2D  = Conv2D(3, (3, 3), padding=\"same\", kernel_initializer=glorot_uniform(seed=0))(concat3)\n",
        "output  = tf.add(conv2D,im1)\n",
        "output  = ContrastStretchingLayer()(output)"
      ]
    },
    {
      "cell_type": "code",
      "execution_count": 12,
      "metadata": {
        "colab": {
          "base_uri": "https://localhost:8080/"
        },
        "id": "zwGFjSx5ptYi",
        "outputId": "c3a041f3-65f3-4426-c219-aab125a67edb"
      },
      "outputs": [
        {
          "output_type": "stream",
          "name": "stdout",
          "text": [
            "Model: \"model\"\n",
            "__________________________________________________________________________________________________\n",
            " Layer (type)                   Output Shape         Param #     Connected to                     \n",
            "==================================================================================================\n",
            " input_1 (InputLayer)           [(None, 256, 256, 3  0           []                               \n",
            "                                )]                                                                \n",
            "                                                                                                  \n",
            " convolutional_block (convoluti  (None, 256, 256, 48  5088       ['input_1[0][0]']                \n",
            " onal_block)                    )                                                                 \n",
            "                                                                                                  \n",
            " tf.concat (TFOpLambda)         (None, 256, 256, 51  0           ['input_1[0][0]',                \n",
            "                                )                                 'convolutional_block[0][0]']    \n",
            "                                                                                                  \n",
            " convolutional_block_1 (convolu  (None, 256, 256, 48  12000      ['tf.concat[0][0]']              \n",
            " tional_block)                  )                                                                 \n",
            "                                                                                                  \n",
            " tf.concat_1 (TFOpLambda)       (None, 256, 256, 10  0           ['input_1[0][0]',                \n",
            "                                2)                                'convolutional_block_1[0][0]',  \n",
            "                                                                  'tf.concat[0][0]']              \n",
            "                                                                                                  \n",
            " convolutional_block_2 (convolu  (None, 256, 256, 48  19344      ['tf.concat_1[0][0]']            \n",
            " tional_block)                  )                                                                 \n",
            "                                                                                                  \n",
            " tf.concat_2 (TFOpLambda)       (None, 256, 256, 15  0           ['input_1[0][0]',                \n",
            "                                3)                                'convolutional_block_2[0][0]',  \n",
            "                                                                  'tf.concat_1[0][0]']            \n",
            "                                                                                                  \n",
            " conv2d_9 (Conv2D)              (None, 256, 256, 3)  4134        ['tf.concat_2[0][0]']            \n",
            "                                                                                                  \n",
            " tf.math.add (TFOpLambda)       (None, 256, 256, 3)  0           ['conv2d_9[0][0]',               \n",
            "                                                                  'input_1[0][0]']                \n",
            "                                                                                                  \n",
            " contrast_stretching_layer (Con  (1, 256, 256, 3)    14          ['tf.math.add[0][0]']            \n",
            " trastStretchingLayer)                                                                            \n",
            "                                                                                                  \n",
            "==================================================================================================\n",
            "Total params: 40,580\n",
            "Trainable params: 40,580\n",
            "Non-trainable params: 0\n",
            "__________________________________________________________________________________________________\n"
          ]
        }
      ],
      "source": [
        "model = Model(inputs = im1, outputs = output)\n",
        "loss_history = LossHistory()\n",
        "\n",
        "model.compile(optim, loss=Customloss())\n",
        "model.summary()"
      ]
    },
    {
      "cell_type": "code",
      "execution_count": 13,
      "metadata": {
        "id": "Z-YrbjRZDxxx"
      },
      "outputs": [],
      "source": [
        "def return_file_names_df(root_dir,folder):\n",
        "    filenames_img=[]\n",
        "    filenames_mask=[]\n",
        "    files=os.listdir(root_dir)\n",
        "    path1=root_dir+'/'+'raw_uieb/'+folder\n",
        "    path2=root_dir+'/'+'reference_uieb/'+folder\n",
        "    for i in sorted(os.listdir(path1)):\n",
        "      if i.split('/')[-1][:2]!='._':\n",
        "        filenames_img.append(path1+'/'+str(i))\n",
        "    for i in sorted(os.listdir(path2)):\n",
        "      if i.split('/')[-1][:2]!='._':\n",
        "        filenames_mask.append(path2+'/'+str(i))\n",
        "    data_df=pd.DataFrame(list(zip(filenames_img, filenames_mask)),\n",
        "              columns=['image','enhanced_image'])\n",
        "    return data_df"
      ]
    },
    {
      "cell_type": "code",
      "execution_count": 14,
      "metadata": {
        "id": "uWoha9eYmtiA"
      },
      "outputs": [],
      "source": [
        "X_train=return_file_names_df('/content','train')\n",
        "X_valid=return_file_names_df('/content','valid')\n",
        "X_test=return_file_names_df('/content','test')"
      ]
    },
    {
      "cell_type": "code",
      "execution_count": 15,
      "metadata": {
        "id": "nI8oJ2LSPIym"
      },
      "outputs": [],
      "source": [
        "class Dataset:\n",
        "  def __init__(self, data_df1):\n",
        "        self.data = data_df1\n",
        "        # the paths of images\n",
        "        self.images_fps   = list(self.data['image'].values)\n",
        "        # the paths of segmentation images\n",
        "        self.masks_fps    = list(self.data['enhanced_image'].values)\n",
        "\n",
        "  def __getitem__(self, i):\n",
        "        # read data\n",
        "        im_image = cv2.imread(self.images_fps[i], cv2.IMREAD_UNCHANGED)\n",
        "        im_enhanced = cv2.imread(self.masks_fps[i], cv2.IMREAD_UNCHANGED)\n",
        "\n",
        "        #calculate the 50 percent of original dimensions\n",
        "        width  = 256\n",
        "        height = 256\n",
        "\n",
        "        # dsize\n",
        "        dsize = (width, height)\n",
        "\n",
        "        # resize image\n",
        "        im_image   = cv2.resize(im_image, dsize,interpolation=cv2.INTER_NEAREST)\n",
        "        # image = cv2.cvtColor(image, cv2.COLOR_BGR2RGB)\n",
        "        im_enhanced = cv2.resize(im_enhanced,dsize,interpolation=cv2.INTER_NEAREST)\n",
        "\n",
        "        return im_image/255.0,im_enhanced/255.0\n",
        "        \n",
        "  def __len__(self):\n",
        "        return len(self.data)\n",
        "    \n",
        "class Dataloder(tf.keras.utils.Sequence):    \n",
        "    def __init__(self, dataset, batch_size=1, shuffle=False):\n",
        "        self.dataset = dataset\n",
        "        self.batch_size = batch_size\n",
        "        self.shuffle = shuffle\n",
        "        self.indexes = np.arange(len(dataset))\n",
        "    def __getitem__(self, i):\n",
        "        \n",
        "        # collect batch data\n",
        "        start = i * self.batch_size\n",
        "        stop = (i + 1) * self.batch_size\n",
        "        data = []\n",
        "        for j in range(start, stop):\n",
        "            data.append(self.dataset[j])\n",
        "        \n",
        "        batch = [np.stack(samples, axis=0) for samples in zip(*data)]\n",
        "        return tuple(batch)\n",
        "    \n",
        "    def __len__(self):\n",
        "        return len(self.indexes) // self.batch_size\n",
        "    \n",
        "    def on_epoch_end(self):\n",
        "        if self.shuffle:\n",
        "            self.indexes = np.random.permutation(self.indexes)"
      ]
    },
    {
      "cell_type": "code",
      "execution_count": 16,
      "metadata": {
        "colab": {
          "base_uri": "https://localhost:8080/"
        },
        "id": "bAqSwzHAPRJ2",
        "outputId": "6fac6e5b-54b8-44b0-c7b8-98f796e407fe"
      },
      "outputs": [
        {
          "output_type": "stream",
          "name": "stdout",
          "text": [
            "(1, 256, 256, 3)\n"
          ]
        }
      ],
      "source": [
        "# Dataset for train images\n",
        "train_dataset = Dataset(X_train)\n",
        "valid_dataset = Dataset(X_valid)\n",
        "test_dataset  = Dataset(X_test)\n",
        "\n",
        "BATCH_SIZE=1\n",
        "train_dataloader = Dataloder(train_dataset, batch_size=1, shuffle=True)\n",
        "valid_dataloader = Dataloder(valid_dataset, batch_size=1, shuffle=True)\n",
        "test_dataloader = Dataloder(test_dataset, batch_size=1, shuffle=True)\n",
        "\n",
        "print(train_dataloader[0][0].shape)\n",
        "assert train_dataloader[0][0].shape == (BATCH_SIZE, 256, 256, 3)\n",
        "assert test_dataloader[0][1].shape == (BATCH_SIZE, 256, 256, 3)"
      ]
    },
    {
      "cell_type": "code",
      "execution_count": 17,
      "metadata": {
        "colab": {
          "base_uri": "https://localhost:8080/"
        },
        "id": "tbSQQwJjPUjB",
        "outputId": "2102ca0c-a826-448c-b68c-0a60cc239c2b"
      },
      "outputs": [
        {
          "metadata": {
            "tags": null
          },
          "name": "stdout",
          "output_type": "stream",
          "text": [
            "Epoch 1/50\n"
          ]
        },
        {
          "metadata": {
            "tags": null
          },
          "name": "stderr",
          "output_type": "stream",
          "text": [
            "WARNING:tensorflow:Gradients do not exist for variables ['contrast_stretching_layer/Variable:0', 'contrast_stretching_layer/sharpen/kernel:0'] when minimizing the loss. If you're using `model.compile()`, did you forget to provide a `loss` argument?\n",
            "WARNING:tensorflow:Gradients do not exist for variables ['contrast_stretching_layer/Variable:0', 'contrast_stretching_layer/sharpen/kernel:0'] when minimizing the loss. If you're using `model.compile()`, did you forget to provide a `loss` argument?\n",
            "WARNING:tensorflow:Gradients do not exist for variables ['contrast_stretching_layer/Variable:0', 'contrast_stretching_layer/sharpen/kernel:0'] when minimizing the loss. If you're using `model.compile()`, did you forget to provide a `loss` argument?\n",
            "WARNING:tensorflow:Gradients do not exist for variables ['contrast_stretching_layer/Variable:0', 'contrast_stretching_layer/sharpen/kernel:0'] when minimizing the loss. If you're using `model.compile()`, did you forget to provide a `loss` argument?\n"
          ]
        },
        {
          "output_type": "stream",
          "name": "stdout",
          "text": [
            "720/720 [==============================] - ETA: 0s - loss: 0.1358\n",
            "Epoch 1: val_loss improved from inf to 0.12269, saving model to Uwcnn_trainableDE_UIEBbest_model.h5\n",
            "720/720 [==============================] - 661s 872ms/step - loss: 0.1358 - val_loss: 0.1227 - lr: 0.0020\n",
            "Epoch 2/50\n",
            "720/720 [==============================] - ETA: 0s - loss: 0.1399\n",
            "Epoch 2: val_loss did not improve from 0.12269\n",
            "720/720 [==============================] - 625s 868ms/step - loss: 0.1399 - val_loss: 0.1310 - lr: 0.0020\n",
            "Epoch 3/50\n",
            "720/720 [==============================] - ETA: 0s - loss: 0.1317\n",
            "Epoch 3: val_loss improved from 0.12269 to 0.11229, saving model to Uwcnn_trainableDE_UIEBbest_model.h5\n",
            "720/720 [==============================] - 622s 864ms/step - loss: 0.1317 - val_loss: 0.1123 - lr: 0.0020\n",
            "Epoch 4/50\n",
            "720/720 [==============================] - ETA: 0s - loss: 0.1352\n",
            "Epoch 4: val_loss did not improve from 0.11229\n",
            "720/720 [==============================] - 632s 878ms/step - loss: 0.1352 - val_loss: 0.1212 - lr: 0.0020\n",
            "Epoch 5/50\n",
            "720/720 [==============================] - ETA: 0s - loss: 0.1363\n",
            "Epoch 5: val_loss did not improve from 0.11229\n",
            "720/720 [==============================] - 617s 857ms/step - loss: 0.1363 - val_loss: 0.1203 - lr: 0.0020\n",
            "Epoch 6/50\n",
            "720/720 [==============================] - ETA: 0s - loss: 0.1330\n",
            "Epoch 6: val_loss improved from 0.11229 to 0.10832, saving model to Uwcnn_trainableDE_UIEBbest_model.h5\n",
            "720/720 [==============================] - 631s 876ms/step - loss: 0.1330 - val_loss: 0.1083 - lr: 0.0020\n",
            "Epoch 7/50\n",
            "720/720 [==============================] - ETA: 0s - loss: 0.1278\n",
            "Epoch 7: val_loss did not improve from 0.10832\n",
            "720/720 [==============================] - 639s 888ms/step - loss: 0.1278 - val_loss: 0.1137 - lr: 0.0020\n",
            "Epoch 8/50\n",
            "720/720 [==============================] - ETA: 0s - loss: 0.1321\n",
            "Epoch 8: val_loss did not improve from 0.10832\n",
            "720/720 [==============================] - 617s 857ms/step - loss: 0.1321 - val_loss: 0.1119 - lr: 0.0020\n",
            "Epoch 9/50\n",
            "720/720 [==============================] - ETA: 0s - loss: 0.1337\n",
            "Epoch 9: val_loss did not improve from 0.10832\n",
            "720/720 [==============================] - 632s 878ms/step - loss: 0.1337 - val_loss: 0.1199 - lr: 0.0020\n",
            "Epoch 10/50\n",
            "720/720 [==============================] - ETA: 0s - loss: 0.1268\n",
            "Epoch 10: val_loss did not improve from 0.10832\n",
            "\n",
            "Epoch 10: ReduceLROnPlateau reducing learning rate to 0.0010000000474974513.\n",
            "720/720 [==============================] - 635s 883ms/step - loss: 0.1268 - val_loss: 0.1143 - lr: 0.0020\n",
            "Epoch 11/50\n",
            "720/720 [==============================] - ETA: 0s - loss: 0.1367\n",
            "Epoch 11: val_loss improved from 0.10832 to 0.10701, saving model to Uwcnn_trainableDE_UIEBbest_model.h5\n",
            "720/720 [==============================] - 636s 882ms/step - loss: 0.1367 - val_loss: 0.1070 - lr: 0.0010\n",
            "Epoch 12/50\n",
            "720/720 [==============================] - ETA: 0s - loss: 0.1205\n",
            "Epoch 12: val_loss did not improve from 0.10701\n",
            "720/720 [==============================] - 633s 879ms/step - loss: 0.1205 - val_loss: 0.1372 - lr: 0.0010\n",
            "Epoch 13/50\n",
            "720/720 [==============================] - ETA: 0s - loss: 0.1359\n",
            "Epoch 13: val_loss did not improve from 0.10701\n",
            "720/720 [==============================] - 636s 883ms/step - loss: 0.1359 - val_loss: 0.1251 - lr: 0.0010\n",
            "Epoch 14/50\n",
            "720/720 [==============================] - ETA: 0s - loss: 0.1275\n",
            "Epoch 14: val_loss did not improve from 0.10701\n",
            "720/720 [==============================] - 618s 858ms/step - loss: 0.1275 - val_loss: 0.1304 - lr: 0.0010\n",
            "Epoch 15/50\n",
            "720/720 [==============================] - ETA: 0s - loss: 0.1304\n",
            "Epoch 15: val_loss did not improve from 0.10701\n",
            "\n",
            "Epoch 15: ReduceLROnPlateau reducing learning rate to 0.0005000000237487257.\n",
            "720/720 [==============================] - 617s 857ms/step - loss: 0.1304 - val_loss: 0.1187 - lr: 0.0010\n",
            "Epoch 16/50\n",
            "720/720 [==============================] - ETA: 0s - loss: 0.1243\n",
            "Epoch 16: val_loss did not improve from 0.10701\n",
            "720/720 [==============================] - 638s 885ms/step - loss: 0.1243 - val_loss: 0.1157 - lr: 5.0000e-04\n",
            "Epoch 17/50\n",
            "720/720 [==============================] - ETA: 0s - loss: 0.1248\n",
            "Epoch 17: val_loss did not improve from 0.10701\n",
            "720/720 [==============================] - 629s 874ms/step - loss: 0.1248 - val_loss: 0.1151 - lr: 5.0000e-04\n",
            "Epoch 18/50\n",
            "720/720 [==============================] - ETA: 0s - loss: 0.1292\n",
            "Epoch 18: val_loss did not improve from 0.10701\n",
            "720/720 [==============================] - 608s 845ms/step - loss: 0.1292 - val_loss: 0.1104 - lr: 5.0000e-04\n",
            "Epoch 19/50\n",
            "720/720 [==============================] - ETA: 0s - loss: 0.1244\n",
            "Epoch 19: val_loss did not improve from 0.10701\n",
            "\n",
            "Epoch 19: ReduceLROnPlateau reducing learning rate to 0.0002500000118743628.\n",
            "720/720 [==============================] - 625s 868ms/step - loss: 0.1244 - val_loss: 0.1183 - lr: 5.0000e-04\n",
            "Epoch 20/50\n",
            "720/720 [==============================] - ETA: 0s - loss: 0.1283\n",
            "Epoch 20: val_loss did not improve from 0.10701\n",
            "720/720 [==============================] - 628s 872ms/step - loss: 0.1283 - val_loss: 0.1078 - lr: 2.5000e-04\n",
            "Epoch 21/50\n",
            "720/720 [==============================] - ETA: 0s - loss: 0.1245\n",
            "Epoch 21: val_loss improved from 0.10701 to 0.09776, saving model to Uwcnn_trainableDE_UIEBbest_model.h5\n",
            "720/720 [==============================] - 645s 896ms/step - loss: 0.1245 - val_loss: 0.0978 - lr: 2.5000e-04\n",
            "Epoch 22/50\n",
            "720/720 [==============================] - ETA: 0s - loss: 0.1259\n",
            "Epoch 22: val_loss did not improve from 0.09776\n",
            "720/720 [==============================] - 677s 941ms/step - loss: 0.1259 - val_loss: 0.1054 - lr: 2.5000e-04\n",
            "Epoch 23/50\n",
            "720/720 [==============================] - ETA: 0s - loss: 0.1262\n",
            "Epoch 23: val_loss did not improve from 0.09776\n",
            "720/720 [==============================] - 632s 878ms/step - loss: 0.1262 - val_loss: 0.1057 - lr: 2.5000e-04\n",
            "Epoch 24/50\n",
            "720/720 [==============================] - ETA: 0s - loss: 0.1288\n",
            "Epoch 24: val_loss did not improve from 0.09776\n",
            "720/720 [==============================] - 634s 880ms/step - loss: 0.1288 - val_loss: 0.1287 - lr: 2.5000e-04\n",
            "Epoch 25/50\n",
            "720/720 [==============================] - ETA: 0s - loss: 0.1198\n",
            "Epoch 25: val_loss did not improve from 0.09776\n",
            "\n",
            "Epoch 25: ReduceLROnPlateau reducing learning rate to 0.0001250000059371814.\n",
            "720/720 [==============================] - 623s 866ms/step - loss: 0.1198 - val_loss: 0.1384 - lr: 2.5000e-04\n",
            "Epoch 26/50\n",
            "720/720 [==============================] - ETA: 0s - loss: 0.1264\n",
            "Epoch 26: val_loss did not improve from 0.09776\n",
            "720/720 [==============================] - 662s 920ms/step - loss: 0.1264 - val_loss: 0.1229 - lr: 1.2500e-04\n",
            "Epoch 27/50\n",
            "720/720 [==============================] - ETA: 0s - loss: 0.1255\n",
            "Epoch 27: val_loss did not improve from 0.09776\n",
            "720/720 [==============================] - 646s 898ms/step - loss: 0.1255 - val_loss: 0.1229 - lr: 1.2500e-04\n",
            "Epoch 28/50\n",
            "720/720 [==============================] - ETA: 0s - loss: 0.1253\n",
            "Epoch 28: val_loss did not improve from 0.09776\n",
            "720/720 [==============================] - 631s 876ms/step - loss: 0.1253 - val_loss: 0.1324 - lr: 1.2500e-04\n",
            "Epoch 29/50\n",
            "720/720 [==============================] - ETA: 0s - loss: 0.1272\n",
            "Epoch 29: val_loss did not improve from 0.09776\n",
            "\n",
            "Epoch 29: ReduceLROnPlateau reducing learning rate to 6.25000029685907e-05.\n",
            "720/720 [==============================] - 590s 819ms/step - loss: 0.1272 - val_loss: 0.1174 - lr: 1.2500e-04\n",
            "Epoch 30/50\n",
            "720/720 [==============================] - ETA: 0s - loss: 0.1314\n",
            "Epoch 30: val_loss did not improve from 0.09776\n",
            "720/720 [==============================] - 599s 832ms/step - loss: 0.1314 - val_loss: 0.1226 - lr: 6.2500e-05\n",
            "Epoch 31/50\n",
            "720/720 [==============================] - ETA: 0s - loss: 0.1195\n",
            "Epoch 31: val_loss did not improve from 0.09776\n",
            "720/720 [==============================] - 604s 838ms/step - loss: 0.1195 - val_loss: 0.1222 - lr: 6.2500e-05\n",
            "Epoch 32/50\n",
            "720/720 [==============================] - ETA: 0s - loss: 0.1231\n",
            "Epoch 32: val_loss did not improve from 0.09776\n",
            "720/720 [==============================] - 604s 838ms/step - loss: 0.1231 - val_loss: 0.1390 - lr: 6.2500e-05\n",
            "Epoch 33/50\n",
            "720/720 [==============================] - ETA: 0s - loss: 0.1237\n",
            "Epoch 33: val_loss did not improve from 0.09776\n",
            "\n",
            "Epoch 33: ReduceLROnPlateau reducing learning rate to 3.125000148429535e-05.\n",
            "720/720 [==============================] - 596s 828ms/step - loss: 0.1237 - val_loss: 0.1425 - lr: 6.2500e-05\n",
            "Epoch 34/50\n",
            "720/720 [==============================] - ETA: 0s - loss: 0.1274\n",
            "Epoch 34: val_loss did not improve from 0.09776\n",
            "720/720 [==============================] - 598s 832ms/step - loss: 0.1274 - val_loss: 0.1285 - lr: 3.1250e-05\n",
            "Epoch 35/50\n",
            "720/720 [==============================] - ETA: 0s - loss: 0.1247\n",
            "Epoch 35: val_loss did not improve from 0.09776\n",
            "720/720 [==============================] - 596s 828ms/step - loss: 0.1247 - val_loss: 0.1203 - lr: 3.1250e-05\n",
            "Epoch 36/50\n",
            "720/720 [==============================] - ETA: 0s - loss: 0.1261\n",
            "Epoch 36: val_loss did not improve from 0.09776\n",
            "720/720 [==============================] - 614s 852ms/step - loss: 0.1261 - val_loss: 0.1190 - lr: 3.1250e-05\n",
            "Epoch 36: early stopping\n"
          ]
        }
      ],
      "source": [
        "# define callbacks\n",
        "save_best_cp = ModelCheckpoint(\n",
        "    filepath='Uwcnn_trainableDE_UIEBbest_model.h5', \n",
        "    monitor='val_loss', \n",
        "    save_best_only=True, \n",
        "    save_weights_only=False,\n",
        "    mode='min',\n",
        "    verbose=1\n",
        ")\n",
        "\n",
        "reduce_lr = ReduceLROnPlateau(\n",
        "    monitor='val_loss', \n",
        "    factor=0.5, \n",
        "    patience=4, \n",
        "    min_lr=1e-6,\n",
        "    verbose=1\n",
        ")\n",
        "\n",
        "early_stop = EarlyStopping(\n",
        "    monitor='val_loss',\n",
        "    patience=15,\n",
        "    verbose=1\n",
        ")\n",
        "\n",
        "history = model.fit(train_dataloader, steps_per_epoch=len(train_dataloader), epochs=50,validation_data=valid_dataloader,callbacks=[loss_history,save_best_cp, reduce_lr, early_stop])"
      ]
    },
    {
      "cell_type": "code",
      "execution_count": 18,
      "metadata": {
        "id": "9UYkTQGJPaSj"
      },
      "outputs": [],
      "source": [
        "losses = loss_history.losses\n",
        "vlosses = loss_history.val_loss"
      ]
    },
    {
      "cell_type": "code",
      "execution_count": 19,
      "metadata": {
        "colab": {
          "base_uri": "https://localhost:8080/",
          "height": 472
        },
        "id": "-m7IpMwqPav7",
        "outputId": "931a7064-b0aa-4899-ac5d-62517f305873"
      },
      "outputs": [
        {
          "output_type": "display_data",
          "data": {
            "text/plain": [
              "<Figure size 640x480 with 1 Axes>"
            ],
            "image/png": "[encoded data removed]"
          },
          "metadata": {}
        }
      ],
      "source": [
        "plt.plot(losses)\n",
        "plt.plot(vlosses)\n",
        "plt.title('UWCNN loss')\n",
        "plt.ylabel('loss')\n",
        "plt.xlabel('epoch')\n",
        "plt.legend(['train', 'val'], loc='upper left')\n",
        "plt.savefig('UWCNNLoss.png', dpi=300)\n",
        "plt.show()"
      ]
    },
    {
      "cell_type": "code",
      "execution_count": null,
      "metadata": {
        "id": "_02wvxBKHN3z"
      },
      "outputs": [],
      "source": [
        "model.save('Imp_UWCNN_UIEB.h5')"
      ]
    },
    {
      "cell_type": "code",
      "execution_count": 20,
      "metadata": {
        "id": "awYmOcoGQQl5"
      },
      "outputs": [],
      "source": [
        "custom_objects = {'ContrastStretchingLayer': ContrastStretchingLayer,\n",
        "                  'convolutional_block': convolutional_block,\n",
        "                  'Customloss': Customloss}"
      ]
    },
    {
      "cell_type": "code",
      "execution_count": 21,
      "metadata": {
        "id": "msXa-YPoHQ51"
      },
      "outputs": [],
      "source": [
        "Imp_uwcnn=tf.keras.models.load_model('/content/Uwcnn_trainableDE_UIEBbest_model.h5', custom_objects=custom_objects)"
      ]
    },
    {
      "cell_type": "markdown",
      "metadata": {
        "id": "_tf-E2-fl-oJ"
      },
      "source": [
        "## Test Statistically driven UWCNN"
      ]
    },
    {
      "cell_type": "code",
      "execution_count": null,
      "metadata": {
        "id": "mMZEC_8fxr00"
      },
      "outputs": [],
      "source": [
        "def get_newpath(img_path):\n",
        "  lists=img_path.split('/')\n",
        "  lists[2]='enhanced_images'\n",
        "  img_path='/'.join(lists)\n",
        "  return img_path"
      ]
    },
    {
      "cell_type": "code",
      "execution_count": null,
      "metadata": {
        "id": "vFvKE07y2MQM"
      },
      "outputs": [],
      "source": [
        "for img_array in test_dataloader:\n",
        "  cv.imwrite('/content/original.jpg',np.uint8(img_array[0][0]*255))\n",
        "  cv.imwrite('/content/enhanced.jpg',np.uint8(img_array[1][0]*255))\n",
        "  "
      ]
    },
    {
      "cell_type": "code",
      "execution_count": null,
      "metadata": {
        "id": "lhGecwCE4WCN"
      },
      "outputs": [],
      "source": [
        "from IPython.display import Image\n",
        "Image(filename='/content/original.jpg')"
      ]
    },
    {
      "cell_type": "code",
      "execution_count": 22,
      "metadata": {
        "id": "OXIYLiQ-7z39",
        "colab": {
          "base_uri": "https://localhost:8080/"
        },
        "outputId": "8fc8c479-6f91-4a2e-fd6b-80ede43999f7"
      },
      "outputs": [
        {
          "output_type": "stream",
          "name": "stdout",
          "text": [
            "1/1 [==============================] - 3s 3s/step\n",
            "1/1 [==============================] - 1s 679ms/step\n",
            "1/1 [==============================] - 0s 364ms/step\n",
            "1/1 [==============================] - 1s 559ms/step\n",
            "1/1 [==============================] - 1s 578ms/step\n",
            "1/1 [==============================] - 1s 691ms/step\n",
            "1/1 [==============================] - 1s 1s/step\n",
            "1/1 [==============================] - 1s 898ms/step\n",
            "1/1 [==============================] - 0s 497ms/step\n",
            "1/1 [==============================] - 0s 339ms/step\n",
            "1/1 [==============================] - 0s 360ms/step\n",
            "1/1 [==============================] - 0s 325ms/step\n",
            "1/1 [==============================] - 1s 533ms/step\n",
            "1/1 [==============================] - 0s 306ms/step\n",
            "1/1 [==============================] - 1s 542ms/step\n",
            "1/1 [==============================] - 1s 575ms/step\n",
            "1/1 [==============================] - 1s 510ms/step\n",
            "1/1 [==============================] - 1s 552ms/step\n",
            "1/1 [==============================] - 0s 332ms/step\n",
            "1/1 [==============================] - 0s 472ms/step\n",
            "1/1 [==============================] - 1s 528ms/step\n",
            "1/1 [==============================] - 1s 676ms/step\n",
            "1/1 [==============================] - 1s 702ms/step\n",
            "1/1 [==============================] - 1s 579ms/step\n",
            "1/1 [==============================] - 1s 601ms/step\n",
            "1/1 [==============================] - 1s 1s/step\n",
            "1/1 [==============================] - 1s 1s/step\n",
            "1/1 [==============================] - 1s 1s/step\n",
            "1/1 [==============================] - 1s 1s/step\n",
            "1/1 [==============================] - 1s 537ms/step\n",
            "1/1 [==============================] - 0s 452ms/step\n",
            "1/1 [==============================] - 1s 897ms/step\n",
            "1/1 [==============================] - 1s 1s/step\n",
            "1/1 [==============================] - 1s 645ms/step\n",
            "1/1 [==============================] - 1s 722ms/step\n",
            "1/1 [==============================] - 1s 687ms/step\n",
            "1/1 [==============================] - 1s 777ms/step\n",
            "1/1 [==============================] - 1s 1s/step\n",
            "1/1 [==============================] - 0s 272ms/step\n",
            "1/1 [==============================] - 1s 603ms/step\n",
            "1/1 [==============================] - 1s 820ms/step\n",
            "1/1 [==============================] - 1s 583ms/step\n",
            "1/1 [==============================] - 1s 587ms/step\n",
            "1/1 [==============================] - 1s 687ms/step\n",
            "1/1 [==============================] - 0s 471ms/step\n",
            "1/1 [==============================] - 0s 313ms/step\n",
            "1/1 [==============================] - 0s 184ms/step\n",
            "1/1 [==============================] - 0s 298ms/step\n",
            "1/1 [==============================] - 1s 535ms/step\n",
            "1/1 [==============================] - 0s 440ms/step\n",
            "1/1 [==============================] - 1s 901ms/step\n",
            "1/1 [==============================] - 1s 546ms/step\n",
            "1/1 [==============================] - 1s 582ms/step\n",
            "1/1 [==============================] - 1s 930ms/step\n",
            "1/1 [==============================] - 1s 719ms/step\n",
            "1/1 [==============================] - 1s 658ms/step\n",
            "1/1 [==============================] - 1s 1s/step\n",
            "1/1 [==============================] - 1s 850ms/step\n",
            "1/1 [==============================] - 2s 2s/step\n",
            "1/1 [==============================] - 0s 487ms/step\n",
            "1/1 [==============================] - 1s 501ms/step\n",
            "1/1 [==============================] - 1s 653ms/step\n",
            "1/1 [==============================] - 1s 588ms/step\n",
            "1/1 [==============================] - 0s 436ms/step\n",
            "1/1 [==============================] - 0s 220ms/step\n",
            "1/1 [==============================] - 1s 727ms/step\n",
            "1/1 [==============================] - 1s 512ms/step\n",
            "1/1 [==============================] - 1s 664ms/step\n",
            "1/1 [==============================] - 1s 1s/step\n",
            "1/1 [==============================] - 0s 475ms/step\n",
            "1/1 [==============================] - 1s 536ms/step\n",
            "1/1 [==============================] - 0s 465ms/step\n",
            "1/1 [==============================] - 0s 328ms/step\n",
            "1/1 [==============================] - 0s 277ms/step\n",
            "1/1 [==============================] - 0s 143ms/step\n",
            "1/1 [==============================] - 0s 408ms/step\n",
            "1/1 [==============================] - 1s 636ms/step\n",
            "1/1 [==============================] - 1s 1s/step\n",
            "1/1 [==============================] - 1s 1s/step\n",
            "1/1 [==============================] - 1s 1s/step\n",
            "1/1 [==============================] - 0s 364ms/step\n",
            "1/1 [==============================] - 0s 313ms/step\n",
            "1/1 [==============================] - 0s 253ms/step\n",
            "1/1 [==============================] - 1s 581ms/step\n",
            "1/1 [==============================] - 0s 236ms/step\n",
            "1/1 [==============================] - 0s 281ms/step\n",
            "1/1 [==============================] - 1s 681ms/step\n",
            "1/1 [==============================] - 1s 1s/step\n",
            "1/1 [==============================] - 1s 806ms/step\n",
            "1/1 [==============================] - 1s 507ms/step\n"
          ]
        }
      ],
      "source": [
        "MSE=[]\n",
        "SSIM=[]\n",
        "PSNR=[]\n",
        "count=0\n",
        "for img_array in test_dataloader:\n",
        "  image1= tf.cast(img_array[0], tf.float32) \n",
        "  image2= tf.cast(img_array[1], tf.float32) \n",
        "  image1=Imp_uwcnn.predict(image1)\n",
        "  img_pred=image1[0]*255\n",
        "  mse  = tf.reduce_mean(tf.square(image1 - image2))\n",
        "  ssim = tf.image.ssim(image1, image2, max_val=1.0)\n",
        "  psnr = tf.image.psnr(image1, image2, max_val=1.0)\n",
        "  MSE.append(mse.numpy())\n",
        "  SSIM.append(ssim.numpy())\n",
        "  PSNR.append(psnr.numpy())"
      ]
    },
    {
      "cell_type": "code",
      "execution_count": 23,
      "metadata": {
        "colab": {
          "base_uri": "https://localhost:8080/"
        },
        "id": "S-V4u41J8DBD",
        "outputId": "25afb402-ea9b-4bf2-b2a6-a1ebca5b61e3"
      },
      "outputs": [
        {
          "output_type": "stream",
          "name": "stdout",
          "text": [
            "923.9572071935982\n",
            "0.877737\n",
            "19.815123\n"
          ]
        }
      ],
      "source": [
        "print(np.average(MSE)*255*255) \n",
        "print(np.average(SSIM)) \n",
        "print(np.average(PSNR))"
      ]
    },
    {
      "cell_type": "code",
      "execution_count": null,
      "metadata": {
        "colab": {
          "base_uri": "https://localhost:8080/"
        },
        "id": "bE1vXQRGBIIQ",
        "outputId": "c144e8ae-c601-4834-90d0-86b007f0d82c"
      },
      "outputs": [
        {
          "data": {
            "text/plain": [
              "90"
            ]
          },
          "execution_count": 72,
          "metadata": {},
          "output_type": "execute_result"
        }
      ],
      "source": [
        "len(PSNR)"
      ]
    },
    {
      "cell_type": "markdown",
      "metadata": {
        "id": "Ymmoj4XbE2Ed"
      },
      "source": [
        "## Visual Test "
      ]
    },
    {
      "cell_type": "code",
      "source": [
        "! wget --header=\"Host: doc-14-18-docs.googleusercontent.com\" --header=\"User-Agent: Mozilla/5.0 (Macintosh; Intel Mac OS X 10_15_7) AppleWebKit/537.36 (KHTML, like Gecko) Chrome/112.0.0.0 Safari/537.36\" --header=\"Accept: text/html,application/xhtml+xml,application/xml;q=0.9,image/avif,image/webp,image/apng,*/*;q=0.8,application/signed-exchange;v=b3;q=0.7\" --header=\"Accept-Language: en-GB,en-US;q=0.9,en;q=0.8\" --header=\"Cookie: AUTH_dp1l4faf6942l4710tsq85u12bcjudim_nonce=42v9go92jade6\" --header=\"Connection: keep-alive\" \"https://doc-14-18-docs.googleusercontent.com/docs/securesc/u8b87l5l6471r2lqtn6669a7q1d31ilr/nce241v8ap7c7n7ljm6ui0cbj94n8gsi/1683536400000/15732550580278023123/00838855734384147432/1cjz_NFnoNnEFCAFcMZ_IlPv8p2FExZwZ?e=download&ax=ADWCPKAmbhclScglhGCPoIt1152XIr34iS_sjVpmp3Cdgfgvwcbi2p8Gl6KfWZqjwUJ3hzX_pnzrVrBbEtUUJcagUk-eauPOGdWy6QVW0qAAwsibXOMIKDA_fqWQF8l8oOUGBWbs9OKTSQ_se_RJC0I9yrsMvUGF6V5SyTxX7PQHqqaC9c0ML9ic3eiiP4ftQ0WsNxL-P_5QABgbacufHEU_0m-k2ZYjflC3frvoD2MdixEOfv5c7E2ok7097YA_OfShMHQfjhOQ2Z3OEeIIvVTrIvfp_3VBYfN49g0J7woaFprgPku5HnfIDW-DP1NJTbWMrV8SZS7J4nqNhU6Qhs-nC5qjaroT7-TbHAix1PBr8d9bWsxXDJBfQqblOvnQSVaw0oBeu8G9UpfAXehkyfS3l8bmQxKDdfos3mUWD4GdHQthO0X4J-kyluoj7aSItFTiP2T9Vqa1CiPQ0HmWYuDkvmKGItSy_CHnLykcV_K0_e6nmC1jO4vWFTOXS-4bPc5vNm8ltYyUHSpKVYkMcXTf8grz0IikGWuIzt8mQOWcMdo6lHwsLR-MTIW7HAYSqXsE5o4g-JyKhmnswk1ErBj3jkOgvEKrdQiajHYO4IVkeo35YyennlDAjm0sg5YIX-uPxVhZJjHKvg1MsqMQzH_p0TMPKZRnqdhfVpClttpKf2wOK7CfcIt8_xJ_Css-4sYQn6VGtlqhj2HyAnEXyJvQcFcR_UtJ0_gAYXfboAe_Fquafz8e8b0kDuGgi9je6Rv4_zIW1pZe0XO6PDgP-PjX-huHUaSIqkBc7zgVZCBZiDYzKQwp3bqRFpJMq6clTt-neIAUjK7JiosULHQmuy1ZyWuCpEijORR2tex2GMYD-2QjM1J3PWZusLZlEsvdzc0&uuid=10594b7f-d53c-407c-9bc1-f78930238aff&authuser=0&nonce=42v9go92jade6&user=00838855734384147432&hash=vpvn9a2b0jmdc9eeqh6rntctjb6k9c3p\" -c -O 'challenging-60.zip'"
      ],
      "metadata": {
        "id": "jfKhlJ8Ql3SL"
      },
      "execution_count": null,
      "outputs": []
    },
    {
      "cell_type": "code",
      "source": [
        "! unzip /content/challenging-60.zip"
      ],
      "metadata": {
        "id": "VRyxNSHpl5Qc"
      },
      "execution_count": null,
      "outputs": []
    },
    {
      "cell_type": "code",
      "source": [
        "count=0\n",
        "for img_path in os.listdir('/content/challenging-60'):\n",
        "  count+=1\n",
        "  img = cv2.imread('/content/challenging-60/'+img_path)\n",
        "  img_array = cv2.cvtColor(img, cv2.COLOR_BGR2RGB)\n",
        "  img_array = tf.image.resize(img_array, size=(256, 256))\n",
        "  img_array=img_array/255.0\n",
        "  image1= tf.cast(img_array, tf.float32)  \n",
        "  image1 = tf.expand_dims(image1, axis=0)\n",
        "  image1=Imp_uwcnn.predict(image1)\n",
        "  img_pred=image1[0]*255\n",
        "  cv.imwrite('/content/output/img_'+str(count)+'.jpg',np.uint8(img_pred))\n"
      ],
      "metadata": {
        "colab": {
          "base_uri": "https://localhost:8080/"
        },
        "id": "sZ6jEr7KmHAt",
        "outputId": "58168e9e-625b-4512-89f1-f40c88bb0fe4"
      },
      "execution_count": 27,
      "outputs": [
        {
          "output_type": "stream",
          "name": "stdout",
          "text": [
            "1/1 [==============================] - 0s 369ms/step\n",
            "1/1 [==============================] - 1s 654ms/step\n",
            "1/1 [==============================] - 1s 751ms/step\n",
            "1/1 [==============================] - 1s 579ms/step\n",
            "1/1 [==============================] - 1s 801ms/step\n",
            "1/1 [==============================] - 1s 549ms/step\n",
            "1/1 [==============================] - 1s 553ms/step\n",
            "1/1 [==============================] - 0s 481ms/step\n",
            "1/1 [==============================] - 0s 457ms/step\n",
            "1/1 [==============================] - 0s 465ms/step\n",
            "1/1 [==============================] - 0s 360ms/step\n",
            "1/1 [==============================] - 1s 738ms/step\n",
            "1/1 [==============================] - 0s 385ms/step\n",
            "1/1 [==============================] - 1s 561ms/step\n",
            "1/1 [==============================] - 1s 756ms/step\n",
            "1/1 [==============================] - 0s 394ms/step\n",
            "1/1 [==============================] - 0s 489ms/step\n",
            "1/1 [==============================] - 0s 492ms/step\n",
            "1/1 [==============================] - 1s 537ms/step\n",
            "1/1 [==============================] - 1s 680ms/step\n",
            "1/1 [==============================] - 1s 542ms/step\n",
            "1/1 [==============================] - 1s 1s/step\n",
            "1/1 [==============================] - 1s 951ms/step\n",
            "1/1 [==============================] - 1s 624ms/step\n",
            "1/1 [==============================] - 0s 482ms/step\n",
            "1/1 [==============================] - 1s 769ms/step\n",
            "1/1 [==============================] - 1s 704ms/step\n",
            "1/1 [==============================] - 1s 911ms/step\n",
            "1/1 [==============================] - 1s 556ms/step\n",
            "1/1 [==============================] - 0s 347ms/step\n",
            "1/1 [==============================] - 1s 752ms/step\n",
            "1/1 [==============================] - 1s 600ms/step\n",
            "1/1 [==============================] - 0s 231ms/step\n",
            "1/1 [==============================] - 1s 518ms/step\n",
            "1/1 [==============================] - 1s 694ms/step\n",
            "1/1 [==============================] - 1s 1s/step\n",
            "1/1 [==============================] - 1s 713ms/step\n",
            "1/1 [==============================] - 2s 2s/step\n",
            "1/1 [==============================] - 0s 306ms/step\n",
            "1/1 [==============================] - 0s 467ms/step\n",
            "1/1 [==============================] - 0s 486ms/step\n",
            "1/1 [==============================] - 0s 467ms/step\n",
            "1/1 [==============================] - 1s 915ms/step\n",
            "1/1 [==============================] - 1s 686ms/step\n",
            "1/1 [==============================] - 1s 906ms/step\n",
            "1/1 [==============================] - 1s 704ms/step\n",
            "1/1 [==============================] - 1s 507ms/step\n",
            "1/1 [==============================] - 1s 582ms/step\n",
            "1/1 [==============================] - 0s 476ms/step\n",
            "1/1 [==============================] - 0s 488ms/step\n",
            "1/1 [==============================] - 1s 500ms/step\n",
            "1/1 [==============================] - 0s 375ms/step\n",
            "1/1 [==============================] - 1s 948ms/step\n",
            "1/1 [==============================] - 1s 775ms/step\n",
            "1/1 [==============================] - 1s 671ms/step\n",
            "1/1 [==============================] - 1s 966ms/step\n",
            "1/1 [==============================] - 0s 395ms/step\n",
            "1/1 [==============================] - 1s 752ms/step\n",
            "1/1 [==============================] - 0s 353ms/step\n",
            "1/1 [==============================] - 0s 304ms/step\n"
          ]
        }
      ]
    },
    {
      "cell_type": "code",
      "source": [
        "from scipy import ndimage\n",
        "from PIL import Image\n",
        "import numpy as np\n",
        "import math\n",
        "\n",
        "def mu_a(x, alpha_L=0.1, alpha_R=0.1):\n",
        "    \"\"\"\n",
        "      Calculates the asymetric alpha-trimmed mean\n",
        "    \"\"\"\n",
        "    # sort pixels by intensity - for clipping\n",
        "    x = sorted(x)\n",
        "    # get number of pixels\n",
        "    K = len(x)\n",
        "    # calculate T alpha L and T alpha R\n",
        "    T_a_L = math.ceil(alpha_L*K)\n",
        "    T_a_R = math.floor(alpha_R*K)\n",
        "    # calculate mu_alpha weight\n",
        "    weight = (1/(K-T_a_L-T_a_R))\n",
        "    # loop through flattened image starting at T_a_L+1 and ending at K-T_a_R\n",
        "    s   = int(T_a_L+1)\n",
        "    e   = int(K-T_a_R)\n",
        "    val = sum(x[s:e])\n",
        "    val = weight*val\n",
        "    return val\n",
        "\n",
        "def s_a(x, mu):\n",
        "    val = 0\n",
        "    for pixel in x:\n",
        "        val += math.pow((pixel-mu), 2)\n",
        "    return val/len(x)\n",
        "\n",
        "def _uicm(x):\n",
        "    R = x[:,:,0].flatten()\n",
        "    G = x[:,:,1].flatten()\n",
        "    B = x[:,:,2].flatten()\n",
        "    RG = R-G\n",
        "    YB = ((R+G)/2)-B\n",
        "    mu_a_RG = mu_a(RG)\n",
        "    mu_a_YB = mu_a(YB)\n",
        "    s_a_RG = s_a(RG, mu_a_RG)\n",
        "    s_a_YB = s_a(YB, mu_a_YB)\n",
        "    l = math.sqrt( (math.pow(mu_a_RG,2)+math.pow(mu_a_YB,2)) )\n",
        "    r = math.sqrt(s_a_RG+s_a_YB)\n",
        "    return (-0.0268*l)+(0.1586*r)\n",
        "\n",
        "def sobel(x):\n",
        "    dx = ndimage.sobel(x,0)\n",
        "    dy = ndimage.sobel(x,1)\n",
        "    mag = np.hypot(dx, dy)\n",
        "    mag *= 255.0 / np.max(mag) \n",
        "    return mag\n",
        "\n",
        "def eme(x, window_size):\n",
        "    \"\"\"\n",
        "      Enhancement measure estimation\n",
        "      x.shape[0] = height\n",
        "      x.shape[1] = width\n",
        "    \"\"\"\n",
        "    # if 4 blocks, then 2x2...etc.\n",
        "    k1 = int(x.shape[1]/window_size)\n",
        "    k2 = int(x.shape[0]/window_size)\n",
        "    # weight\n",
        "    w = 2./(k1*k2)\n",
        "    blocksize_x = window_size\n",
        "    blocksize_y = window_size\n",
        "    # make sure image is divisible by window_size - doesn't matter if we cut out some pixels\n",
        "    x = x[:int(blocksize_y*k2), :int(blocksize_x*k1)]\n",
        "    val = 0\n",
        "    for l in range(k1):\n",
        "        for k in range(k2):\n",
        "            block = x[int(k*window_size):int(window_size*(k+1)), int(l*window_size):int(window_size*(l+1))]\n",
        "            max_ = np.max(block)\n",
        "            min_ = np.min(block)\n",
        "            # bound checks, can't do log(0)\n",
        "            if min_ == 0.0: val += 0\n",
        "            elif max_ == 0.0: val += 0\n",
        "            else: val += math.log(max_/min_)\n",
        "    return w*val\n",
        "\n",
        "def _uism(x):\n",
        "    \"\"\"\n",
        "      Underwater Image Sharpness Measure\n",
        "    \"\"\"\n",
        "    # get image channels\n",
        "    R = x[:,:,0]\n",
        "    G = x[:,:,1]\n",
        "    B = x[:,:,2]\n",
        "    # first apply Sobel edge detector to each RGB component\n",
        "    Rs = sobel(R)\n",
        "    Gs = sobel(G)\n",
        "    Bs = sobel(B)\n",
        "    # multiply the edges detected for each channel by the channel itself\n",
        "    R_edge_map = np.multiply(Rs, R)\n",
        "    G_edge_map = np.multiply(Gs, G)\n",
        "    B_edge_map = np.multiply(Bs, B)\n",
        "    # get eme for each channel\n",
        "    r_eme = eme(R_edge_map, 10)\n",
        "    g_eme = eme(G_edge_map, 10)\n",
        "    b_eme = eme(B_edge_map, 10)\n",
        "    # coefficients\n",
        "    lambda_r = 0.299\n",
        "    lambda_g = 0.587\n",
        "    lambda_b = 0.144\n",
        "    return (lambda_r*r_eme) + (lambda_g*g_eme) + (lambda_b*b_eme)\n",
        "\n",
        "def plip_g(x,mu=1026.0):\n",
        "    return mu-x\n",
        "\n",
        "def plip_theta(g1, g2, k):\n",
        "    g1 = plip_g(g1)\n",
        "    g2 = plip_g(g2)\n",
        "    return k*((g1-g2)/(k-g2))\n",
        "\n",
        "def plip_cross(g1, g2, gamma):\n",
        "    g1 = plip_g(g1)\n",
        "    g2 = plip_g(g2)\n",
        "    return g1+g2-((g1*g2)/(gamma))\n",
        "\n",
        "def plip_diag(c, g, gamma):\n",
        "    g = plip_g(g)\n",
        "    return gamma - (gamma * math.pow((1 - (g/gamma) ), c) )\n",
        "\n",
        "def plip_multiplication(g1, g2):\n",
        "    return plip_phiInverse(plip_phi(g1) * plip_phi(g2))\n",
        "    #return plip_phiInverse(plip_phi(plip_g(g1)) * plip_phi(plip_g(g2)))\n",
        "\n",
        "def plip_phiInverse(g):\n",
        "    plip_lambda = 1026.0\n",
        "    plip_beta   = 1.0\n",
        "    return plip_lambda * (1 - math.pow(math.exp(-g / plip_lambda), 1 / plip_beta));\n",
        "\n",
        "def plip_phi(g):\n",
        "    plip_lambda = 1026.0\n",
        "    plip_beta   = 1.0\n",
        "    return -plip_lambda * math.pow(math.log(1 - g / plip_lambda), plip_beta)\n",
        "\n",
        "def _uiconm(x, window_size):\n",
        "    \"\"\"\n",
        "      Underwater image contrast measure\n",
        "      https://github.com/tkrahn108/UIQM/blob/master/src/uiconm.cpp\n",
        "      https://ieeexplore.ieee.org/abstract/document/5609219\n",
        "    \"\"\"\n",
        "    plip_lambda = 1026.0\n",
        "    plip_gamma  = 1026.0\n",
        "    plip_beta   = 1.0\n",
        "    plip_mu     = 1026.0\n",
        "    plip_k      = 1026.0\n",
        "    # if 4 blocks, then 2x2...etc.\n",
        "    k1 = int(x.shape[1]/window_size)\n",
        "    k2 = int(x.shape[0]/window_size)\n",
        "    # weight\n",
        "    w = -1./(k1*k2)\n",
        "    blocksize_x = window_size\n",
        "    blocksize_y = window_size\n",
        "    # make sure image is divisible by window_size - doesn't matter if we cut out some pixels\n",
        "    x = x[:int(blocksize_y*k2), :int(blocksize_x*k1)]\n",
        "    # entropy scale - higher helps with randomness\n",
        "    alpha = 1\n",
        "    val = 0\n",
        "    for l in range(k1):\n",
        "        for k in range(k2):\n",
        "            block = x[k*window_size:window_size*(k+1), l*window_size:window_size*(l+1), :]\n",
        "            max_ = np.max(block)\n",
        "            min_ = np.min(block)\n",
        "            top = max_-min_\n",
        "            bot = max_+min_\n",
        "            if math.isnan(top) or math.isnan(bot) or bot == 0.0 or top == 0.0: val += 0.0\n",
        "            else: val += alpha*math.pow((top/bot),alpha) * math.log(top/bot)\n",
        "            #try: val += plip_multiplication((top/bot),math.log(top/bot))\n",
        "    return w*val\n",
        "\n",
        "def getUIQM(x):\n",
        "    \"\"\"\n",
        "      Function to return UIQM to be called from other programs\n",
        "      x: image\n",
        "    \"\"\"\n",
        "    x = x.astype(np.float32)\n",
        "    ### UCIQE: https://ieeexplore.ieee.org/abstract/document/7300447\n",
        "    #c1 = 0.4680; c2 = 0.2745; c3 = 0.2576\n",
        "    ### UIQM https://ieeexplore.ieee.org/abstract/document/7305804\n",
        "    c1 = 0.0282; c2 = 0.2953; c3 = 3.5753\n",
        "    uicm   = _uicm(x)\n",
        "    uism   = _uism(x)\n",
        "    uiconm = _uiconm(x, 10)\n",
        "    uiqm = (c1*uicm) + (c2*uism) + (c3*uiconm)\n",
        "    return [uiqm,uicm,uism,uiconm]\n"
      ],
      "metadata": {
        "id": "-K3ikpJukvSW"
      },
      "execution_count": 26,
      "outputs": []
    },
    {
      "cell_type": "code",
      "source": [
        "\"\"\"\n",
        "# > Script for measuring quantitative performances in terms of\n",
        "#    - Structural Similarity Metric (SSIM) \n",
        "#    - Peak Signal to Noise Ratio (PSNR)\n",
        "# > Maintainer: https://github.com/xahidbuffon\n",
        "\"\"\"\n",
        "## python libs\n",
        "import numpy as np\n",
        "from PIL import Image, ImageOps\n",
        "from glob import glob\n",
        "from os.path import join\n",
        "from ntpath import basename\n",
        "## local libs\n",
        "# from visual_metrics import getUIQM\n",
        "\n",
        "\n",
        "def measure_UIQMs(dir_name, im_res=(256, 256)):\n",
        "    paths = sorted(glob(join(dir_name, \"*.*\")))\n",
        "    uqims = []\n",
        "    uicms=[]\n",
        "    uisms=[]\n",
        "    uiconms=[]\n",
        "    for img_path in paths:\n",
        "        im = Image.open(img_path).resize(im_res)\n",
        "        uiqm= getUIQM(np.array(im))\n",
        "        uqims.append(uiqm[0])\n",
        "        uicms.append(uiqm[1])\n",
        "        uisms.append(uiqm[2])\n",
        "        uiconms.append(uiqm[3])\n",
        "    return [np.array(uqims),np.array(uicms),np.array(uisms),np.array(uiconms)]\n",
        "\n",
        "gen_dir = \"/content/output/\" \n",
        "gen_uqims,gen_uicms,gen_uisms,gen_uiconms  = measure_UIQMs(gen_dir)\n",
        "print (\"Enhanced UIQMs >> Mean: {0} std: {1}\".format(np.mean(gen_uqims), np.std(gen_uqims)))\n",
        "print (\"Enhanced UICMs >> Mean: {0} std: {1}\".format(np.mean(gen_uicms), np.std(gen_uicms)))\n",
        "print (\"Enhanced UISMs >> Mean: {0} std: {1}\".format(np.mean(gen_uisms), np.std(gen_uisms)))\n",
        "print (\"Enhanced UICONMs >> Mean: {0} std: {1}\".format(np.mean(gen_uiconms), np.std(gen_uiconms)))\n"
      ],
      "metadata": {
        "colab": {
          "base_uri": "https://localhost:8080/"
        },
        "id": "NbItYn0Vk4tZ",
        "outputId": "4b3e8a8b-da85-4190-f372-87f2cb0e9a76"
      },
      "execution_count": 28,
      "outputs": [
        {
          "output_type": "stream",
          "name": "stdout",
          "text": [
            "Enhanced UIQMs >> Mean: 2.723871562837698 std: 0.4515390101542019\n",
            "Enhanced UICMs >> Mean: 5.791898953129201 std: 2.1516894647529274\n",
            "Enhanced UISMs >> Mean: 5.882949352885715 std: 1.6684586722678527\n",
            "Enhanced UICONMs >> Mean: 0.23027580019922897 std: 0.06366520004521549\n"
          ]
        }
      ]
    }
  ],
  "metadata": {
    "accelerator": "GPU",
    "colab": {
      "provenance": []
    },
    "gpuClass": "standard",
    "kernelspec": {
      "display_name": "Python 3",
      "name": "python3"
    },
    "language_info": {
      "name": "python"
    }
  },
  "nbformat": 4,
  "nbformat_minor": 0
}